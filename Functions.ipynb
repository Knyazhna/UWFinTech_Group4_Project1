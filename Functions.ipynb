{
 "cells": [
  {
   "cell_type": "code",
   "execution_count": null,
   "id": "e394245e-8375-4b9a-ad0e-34562521ffea",
   "metadata": {},
   "outputs": [],
   "source": [
    "def fetch_stock_aggregates(tickers, multiplier=1, timespan=\"day\", start_date='', end_date='', columns=['Close'], key=polygon_api_key):\n",
    "    \n",
    "    column_mappings = {'c': 'Close', 'h': 'High', 'l':'Low', 'n':'Transactions', 'o':'Open', 'v':'Volume', 'vw':'Adjusted'}\n",
    "    data_frames = {}    \n",
    "    if end_date == '':\n",
    "        end_date = datetime.date.today().strftime('%Y-%m-%d')\n",
    "    if start_date == '':\n",
    "        start_date = (datetime.date.today()-datetime.timedelta(days=1)).strftime('%Y-%m-%d')    \n",
    "        \n",
    "    for ticker in tickers:\n",
    "        \n",
    "        if 'polygon' in sys.modules:                \n",
    "            with RESTClient(key) as polygon_client:\n",
    "                response_json = polygon_client.stocks_equities_aggregates(ticker, multiplier, timespan, start_date, end_date, limit=50000)\n",
    "                stock_df = pd.DataFrame(response_json.results)\n",
    "                print(f\"{timespan.capitalize()} aggregates for {response_json.ticker} between {start_date} and {end_date} fetched.\")\n",
    "        else:\n",
    "            url = f\"https://api.polygon.io/v2/aggs/ticker/{ticker}/range/{multiplier}/{timespan}/{start_date}/{end_date}?sort=asc&limit=50000&apiKey={key}\"\n",
    "            print(url)\n",
    "            response_json = requests.get(url).json()\n",
    "            stock_df = pd.DataFrame(response_json['results'])\n",
    "            print(f\"{timespan.capitalize()} aggregates for {response_json['ticker']} between {start_date} and {end_date} fetched.\")\n",
    "        \n",
    "        stock_df[\"Date\"] = pd.to_datetime(stock_df[\"t\"].div(1000), unit='s')\n",
    "        stock_df = stock_df.drop(['t'], axis=1)\n",
    "        stock_df = stock_df.set_index(\"Date\")\n",
    "        column_names = []\n",
    "        for column in stock_df.columns:\n",
    "            if column in column_mappings.keys():\n",
    "                column_name = column_mappings[column]\n",
    "            if column_name in columns:\n",
    "                column_names.append(column_name)\n",
    "            else:\n",
    "                stock_df = stock_df.drop([column], axis=1)\n",
    "        stock_df.columns = column_names\n",
    "        data_frames[ticker] = stock_df\n",
    "    merged_df = pd.concat(data_frames.values(), axis=1, keys=data_frames.keys())\n",
    "    merged_df=merged_df.dropna()\n",
    "    return merged_df"
   ]
  }
 ],
 "metadata": {
  "kernelspec": {
   "display_name": "dev",
   "language": "python",
   "name": "dev"
  },
  "language_info": {
   "codemirror_mode": {
    "name": "ipython",
    "version": 3
   },
   "file_extension": ".py",
   "mimetype": "text/x-python",
   "name": "python",
   "nbconvert_exporter": "python",
   "pygments_lexer": "ipython3",
   "version": "3.7.11"
  }
 },
 "nbformat": 4,
 "nbformat_minor": 5
}
